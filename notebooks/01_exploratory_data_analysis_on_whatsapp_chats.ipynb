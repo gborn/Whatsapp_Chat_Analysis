{
  "nbformat": 4,
  "nbformat_minor": 0,
  "metadata": {
    "colab": {
      "name": "01-exploratory-data-analysis-on-whatsapp-chats.ipynb",
      "provenance": []
    },
    "kernelspec": {
      "name": "python3",
      "display_name": "Python 3"
    },
    "language_info": {
      "name": "python"
    }
  },
  "cells": [
    {
      "cell_type": "markdown",
      "source": [
        "# Exploratory Data Analysis\n",
        "In this notebook, we conduct basic data wrangling, and EDA on a whatsapp group conversations. For this case study, we select a classroom whatsapp group of 207 members. The group mostly discusses subjects about AI/ML, and assignments.\n",
        "\n",
        "<br>This notebook serves as groundwork for second notebook, where we perform extensive Topic modelling."
      ],
      "metadata": {
        "id": "1iFnPe0cO-3A"
      }
    },
    {
      "cell_type": "code",
      "execution_count": 2,
      "metadata": {
        "id": "8GMT9peWO3f1"
      },
      "outputs": [],
      "source": [
        "import pandas as pd\n",
        "import numpy as np\n",
        "from matplotlib import pyplot as plt\n",
        "import seaborn as sns\n",
        "import re\n",
        "\n",
        "plt.style.use(\"seaborn-whitegrid\")\n",
        "plt.rc(\"figure\", autolayout=False, dpi=100)\n",
        "plt.rc(\n",
        "    \"axes\",\n",
        "    labelweight=\"bold\",\n",
        "    labelsize=\"large\",\n",
        "    titleweight=\"bold\",\n",
        "    titlesize=14,\n",
        "    titlepad=10,\n",
        ")\n",
        "\n",
        "sns.set()"
      ]
    },
    {
      "cell_type": "markdown",
      "source": [
        "## How does an exported whatsapp text file looks like?"
      ],
      "metadata": {
        "id": "5Z9kk8hKgdli"
      }
    },
    {
      "cell_type": "code",
      "source": [
        "!head -n 10 'exported_whatsapp_chat.txt'"
      ],
      "metadata": {
        "colab": {
          "base_uri": "https://localhost:8080/"
        },
        "id": "j3L8DKd6eBfy",
        "outputId": "daf673d2-0000-4aeb-d159-f2f855b63378"
      },
      "execution_count": 46,
      "outputs": [
        {
          "output_type": "stream",
          "name": "stdout",
          "text": [
            "21/07/2020, 22:22 - Messages and calls are end-to-end encrypted. No one outside of this chat, not even WhatsApp, can read or listen to them. Tap to learn more.\n",
            "21/07/2020, 22:22 - Glad: hii tribhav..\n",
            "21/07/2020, 22:22 - Tribhav: Hello\n",
            "21/07/2020, 22:24 - Tribhav: <Media omitted>\n",
            "21/07/2020, 22:27 - Glad: that's the perfect shape..\n",
            "21/07/2020, 22:27 - Tribhav: 🤗\n",
            "21/07/2020, 22:27 - Glad: hope I'm there one day..\n",
            "21/07/2020, 22:27 - Tribhav: You'll\n",
            "21/07/2020, 22:28 - Glad: far I've gone is oval.. that's why I like making naan.. no one will question me that way..\n",
            "21/07/2020, 22:28 - Tribhav: Hahahah\n"
          ]
        }
      ]
    },
    {
      "cell_type": "markdown",
      "source": [
        "Each line in exported text file has three distinct parts - date, and time of the message, and the message text. The file also contains notifications like 'Media omitted', or about encryption. We exclude these lines in our analysis."
      ],
      "metadata": {
        "id": "fBQIbD-we6Mj"
      }
    },
    {
      "cell_type": "markdown",
      "source": [
        "## Preprocessing\n",
        "\n",
        "In this section, we extract datetime, phone-number/name, and message text from each line, and generate a csv file with above three sections as header."
      ],
      "metadata": {
        "id": "07r_oSs0gkW4"
      }
    },
    {
      "cell_type": "code",
      "source": [
        "def separator(msg):\n",
        "    \"\"\"\n",
        "    Function to read each line of .txt file, and extract date-time, name, and message text\n",
        "    \"\"\"\n",
        "    msg = msg.strip()\n",
        "\n",
        "    # we define three groups: datetime, person-name/phone number, message\n",
        "    result = re.search(r'(\\d{1,2}/\\d{1,2}/\\d{4},\\s+\\d{1,2}:\\d{1,2})\\s+-\\s+([+0-9a-zA-Z\\s]+):\\s+(.*)', msg)\n",
        "\n",
        "    # ignore lines that don't have above three groups, and return empty line\n",
        "    if not hasattr(result, 'group'):\n",
        "        return ''\n",
        "\n",
        "    return result.groups()\n",
        "\n",
        "separator('20/05/2021, 21:24 - +91 9999 99999: Check this ans https://stackoverflow.com/questions/41567895/will-scikit-learn-utilize-gpu')"
      ],
      "metadata": {
        "colab": {
          "base_uri": "https://localhost:8080/"
        },
        "id": "CY9zy7mIeQxF",
        "outputId": "8ed2740f-2f36-4545-936e-649cb364625b"
      },
      "execution_count": 49,
      "outputs": [
        {
          "output_type": "execute_result",
          "data": {
            "text/plain": [
              "('20/05/2021, 21:24',\n",
              " '+91 9999 99999',\n",
              " 'Check this ans https://stackoverflow.com/questions/41567895/will-scikit-learn-utilize-gpu')"
            ]
          },
          "metadata": {},
          "execution_count": 49
        }
      ]
    },
    {
      "cell_type": "code",
      "source": [
        "import csv\n",
        "def txt_to_csv(fn):\n",
        "    \"\"\"\n",
        "    Function to convert .txt file to csv file with three headers - datetime, id, message text\n",
        "    Accepts `fn` filename of exported text file as argument\n",
        "    \"\"\"\n",
        "    with open(fn) as f:\n",
        "         lines = map(separator, f.readlines())\n",
        "\n",
        "         with open(f'{fn[:-4]}.csv', 'w') as wf:\n",
        "             out = csv.writer(wf)\n",
        "             out.writerow(['datetime', 'id', 'message'])\n",
        "             for line in lines:\n",
        "                 if line:\n",
        "                    out.writerow(line)\n",
        "\n",
        "txt_to_csv('original_chats.txt')"
      ],
      "metadata": {
        "id": "w5OzTCKYf1tK"
      },
      "execution_count": 50,
      "outputs": []
    },
    {
      "cell_type": "markdown",
      "source": [
        "To protect the privacy of the members, the phone numbers/real names have been masked with random names with a random-name-generator API. <b>This is done only for EDA and topic modelling notebooks, not in web app.</b>"
      ],
      "metadata": {
        "id": "KooX_hxlWSRu"
      }
    },
    {
      "cell_type": "code",
      "source": [
        "!pip install getindianname > /dev/null\n",
        "from getindianname import randname\n",
        "\n",
        "# read the original data to mask the real ids.\n",
        "chats = pd.read_csv('original_chats.csv')  # this dataset won't be available further\n",
        "\n",
        "# get all unique real ids\n",
        "real_ids = chats.id.unique().tolist()\n",
        "\n",
        "# generate random names\n",
        "generated_ids = [randname().split()[0] for _ in range(len(real_ids))]\n",
        "\n",
        "# map each real id with a random name, and save the data\n",
        "real_to_generated = dict(zip(real_ids, generated_ids))\n",
        "chats['id'] = chats.id.map(real_to_generated)\n",
        "chats.to_csv('group_chats.csv', index=False)"
      ],
      "metadata": {
        "id": "u6Sazn7dO63D"
      },
      "execution_count": 44,
      "outputs": []
    },
    {
      "cell_type": "code",
      "source": [
        "chats = pd.read_csv('group_chats.csv', parse_dates=['datetime'])\n",
        "chats"
      ],
      "metadata": {
        "colab": {
          "base_uri": "https://localhost:8080/",
          "height": 1068
        },
        "id": "-6zPSIccb3wV",
        "outputId": "0f02c3d1-50d2-4880-ac24-048a50ab2117"
      },
      "execution_count": 54,
      "outputs": [
        {
          "output_type": "execute_result",
          "data": {
            "text/html": [
              "\n",
              "  <div id=\"df-067c7a3c-d71d-40a6-ae71-fa0d67c29f48\">\n",
              "    <div class=\"colab-df-container\">\n",
              "      <div>\n",
              "<style scoped>\n",
              "    .dataframe tbody tr th:only-of-type {\n",
              "        vertical-align: middle;\n",
              "    }\n",
              "\n",
              "    .dataframe tbody tr th {\n",
              "        vertical-align: top;\n",
              "    }\n",
              "\n",
              "    .dataframe thead th {\n",
              "        text-align: right;\n",
              "    }\n",
              "</style>\n",
              "<table border=\"1\" class=\"dataframe\">\n",
              "  <thead>\n",
              "    <tr style=\"text-align: right;\">\n",
              "      <th></th>\n",
              "      <th>datetime</th>\n",
              "      <th>id</th>\n",
              "      <th>message</th>\n",
              "    </tr>\n",
              "  </thead>\n",
              "  <tbody>\n",
              "    <tr>\n",
              "      <th>0</th>\n",
              "      <td>2021-10-05 11:16:00</td>\n",
              "      <td>Udaya</td>\n",
              "      <td>hi</td>\n",
              "    </tr>\n",
              "    <tr>\n",
              "      <th>1</th>\n",
              "      <td>2021-10-05 11:30:00</td>\n",
              "      <td>Udaya</td>\n",
              "      <td>Has anyone completed transfer learning assignm...</td>\n",
              "    </tr>\n",
              "    <tr>\n",
              "      <th>2</th>\n",
              "      <td>2021-10-05 11:30:00</td>\n",
              "      <td>Krishna</td>\n",
              "      <td>hi all</td>\n",
              "    </tr>\n",
              "    <tr>\n",
              "      <th>3</th>\n",
              "      <td>2021-10-05 16:11:00</td>\n",
              "      <td>Mahendra</td>\n",
              "      <td>&lt;Media omitted&gt;</td>\n",
              "    </tr>\n",
              "    <tr>\n",
              "      <th>4</th>\n",
              "      <td>2021-10-05 16:13:00</td>\n",
              "      <td>Sherya</td>\n",
              "      <td>df.age.isna() or df.age.isnull()</td>\n",
              "    </tr>\n",
              "    <tr>\n",
              "      <th>...</th>\n",
              "      <td>...</td>\n",
              "      <td>...</td>\n",
              "      <td>...</td>\n",
              "    </tr>\n",
              "    <tr>\n",
              "      <th>6315</th>\n",
              "      <td>2021-11-12 21:50:00</td>\n",
              "      <td>Raghvendra</td>\n",
              "      <td>Very nice  article. 👏👏👏</td>\n",
              "    </tr>\n",
              "    <tr>\n",
              "      <th>6316</th>\n",
              "      <td>2021-11-12 23:44:00</td>\n",
              "      <td>Rohit</td>\n",
              "      <td>Anyone who is appearing or appeared for interv...</td>\n",
              "    </tr>\n",
              "    <tr>\n",
              "      <th>6317</th>\n",
              "      <td>2021-12-12 17:22:00</td>\n",
              "      <td>Sherya</td>\n",
              "      <td>Guys please anyone can share sample resume on ...</td>\n",
              "    </tr>\n",
              "    <tr>\n",
              "      <th>6318</th>\n",
              "      <td>2021-12-12 17:25:00</td>\n",
              "      <td>Ashish</td>\n",
              "      <td>Thank you :)</td>\n",
              "    </tr>\n",
              "    <tr>\n",
              "      <th>6319</th>\n",
              "      <td>2021-12-12 17:27:00</td>\n",
              "      <td>Dil</td>\n",
              "      <td>Ur good name.. will add u in linked .. post li...</td>\n",
              "    </tr>\n",
              "  </tbody>\n",
              "</table>\n",
              "<p>6320 rows × 3 columns</p>\n",
              "</div>\n",
              "      <button class=\"colab-df-convert\" onclick=\"convertToInteractive('df-067c7a3c-d71d-40a6-ae71-fa0d67c29f48')\"\n",
              "              title=\"Convert this dataframe to an interactive table.\"\n",
              "              style=\"display:none;\">\n",
              "        \n",
              "  <svg xmlns=\"http://www.w3.org/2000/svg\" height=\"24px\"viewBox=\"0 0 24 24\"\n",
              "       width=\"24px\">\n",
              "    <path d=\"M0 0h24v24H0V0z\" fill=\"none\"/>\n",
              "    <path d=\"M18.56 5.44l.94 2.06.94-2.06 2.06-.94-2.06-.94-.94-2.06-.94 2.06-2.06.94zm-11 1L8.5 8.5l.94-2.06 2.06-.94-2.06-.94L8.5 2.5l-.94 2.06-2.06.94zm10 10l.94 2.06.94-2.06 2.06-.94-2.06-.94-.94-2.06-.94 2.06-2.06.94z\"/><path d=\"M17.41 7.96l-1.37-1.37c-.4-.4-.92-.59-1.43-.59-.52 0-1.04.2-1.43.59L10.3 9.45l-7.72 7.72c-.78.78-.78 2.05 0 2.83L4 21.41c.39.39.9.59 1.41.59.51 0 1.02-.2 1.41-.59l7.78-7.78 2.81-2.81c.8-.78.8-2.07 0-2.86zM5.41 20L4 18.59l7.72-7.72 1.47 1.35L5.41 20z\"/>\n",
              "  </svg>\n",
              "      </button>\n",
              "      \n",
              "  <style>\n",
              "    .colab-df-container {\n",
              "      display:flex;\n",
              "      flex-wrap:wrap;\n",
              "      gap: 12px;\n",
              "    }\n",
              "\n",
              "    .colab-df-convert {\n",
              "      background-color: #E8F0FE;\n",
              "      border: none;\n",
              "      border-radius: 50%;\n",
              "      cursor: pointer;\n",
              "      display: none;\n",
              "      fill: #1967D2;\n",
              "      height: 32px;\n",
              "      padding: 0 0 0 0;\n",
              "      width: 32px;\n",
              "    }\n",
              "\n",
              "    .colab-df-convert:hover {\n",
              "      background-color: #E2EBFA;\n",
              "      box-shadow: 0px 1px 2px rgba(60, 64, 67, 0.3), 0px 1px 3px 1px rgba(60, 64, 67, 0.15);\n",
              "      fill: #174EA6;\n",
              "    }\n",
              "\n",
              "    [theme=dark] .colab-df-convert {\n",
              "      background-color: #3B4455;\n",
              "      fill: #D2E3FC;\n",
              "    }\n",
              "\n",
              "    [theme=dark] .colab-df-convert:hover {\n",
              "      background-color: #434B5C;\n",
              "      box-shadow: 0px 1px 3px 1px rgba(0, 0, 0, 0.15);\n",
              "      filter: drop-shadow(0px 1px 2px rgba(0, 0, 0, 0.3));\n",
              "      fill: #FFFFFF;\n",
              "    }\n",
              "  </style>\n",
              "\n",
              "      <script>\n",
              "        const buttonEl =\n",
              "          document.querySelector('#df-067c7a3c-d71d-40a6-ae71-fa0d67c29f48 button.colab-df-convert');\n",
              "        buttonEl.style.display =\n",
              "          google.colab.kernel.accessAllowed ? 'block' : 'none';\n",
              "\n",
              "        async function convertToInteractive(key) {\n",
              "          const element = document.querySelector('#df-067c7a3c-d71d-40a6-ae71-fa0d67c29f48');\n",
              "          const dataTable =\n",
              "            await google.colab.kernel.invokeFunction('convertToInteractive',\n",
              "                                                     [key], {});\n",
              "          if (!dataTable) return;\n",
              "\n",
              "          const docLinkHtml = 'Like what you see? Visit the ' +\n",
              "            '<a target=\"_blank\" href=https://colab.research.google.com/notebooks/data_table.ipynb>data table notebook</a>'\n",
              "            + ' to learn more about interactive tables.';\n",
              "          element.innerHTML = '';\n",
              "          dataTable['output_type'] = 'display_data';\n",
              "          await google.colab.output.renderOutput(dataTable, element);\n",
              "          const docLink = document.createElement('div');\n",
              "          docLink.innerHTML = docLinkHtml;\n",
              "          element.appendChild(docLink);\n",
              "        }\n",
              "      </script>\n",
              "    </div>\n",
              "  </div>\n",
              "  "
            ],
            "text/plain": [
              "                datetime  ...                                            message\n",
              "0    2021-10-05 11:16:00  ...                                                 hi\n",
              "1    2021-10-05 11:30:00  ...  Has anyone completed transfer learning assignm...\n",
              "2    2021-10-05 11:30:00  ...                                             hi all\n",
              "3    2021-10-05 16:11:00  ...                                    <Media omitted>\n",
              "4    2021-10-05 16:13:00  ...                   df.age.isna() or df.age.isnull()\n",
              "...                  ...  ...                                                ...\n",
              "6315 2021-11-12 21:50:00  ...                            Very nice  article. 👏👏👏\n",
              "6316 2021-11-12 23:44:00  ...  Anyone who is appearing or appeared for interv...\n",
              "6317 2021-12-12 17:22:00  ...  Guys please anyone can share sample resume on ...\n",
              "6318 2021-12-12 17:25:00  ...                                       Thank you :)\n",
              "6319 2021-12-12 17:27:00  ...  Ur good name.. will add u in linked .. post li...\n",
              "\n",
              "[6320 rows x 3 columns]"
            ]
          },
          "metadata": {},
          "execution_count": 54
        }
      ]
    },
    {
      "cell_type": "code",
      "source": [
        ""
      ],
      "metadata": {
        "id": "8CRtdbTLciX6"
      },
      "execution_count": null,
      "outputs": []
    }
  ]
}